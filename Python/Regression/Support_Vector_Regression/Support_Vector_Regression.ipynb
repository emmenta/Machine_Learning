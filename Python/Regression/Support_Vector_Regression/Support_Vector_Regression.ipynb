{
 "cells": [
  {
   "cell_type": "markdown",
   "id": "d232cefa-991c-4774-907a-c41e030b6cd6",
   "metadata": {},
   "source": [
    "Import the Library"
   ]
  },
  {
   "cell_type": "code",
   "execution_count": 2,
   "id": "47e369ea-4504-4d3e-82cb-6f2cd1ae6217",
   "metadata": {},
   "outputs": [],
   "source": [
    "import numpy as np\n",
    "import pandas as pd\n",
    "import matplotlib.pyplot as plt"
   ]
  },
  {
   "cell_type": "markdown",
   "id": "ff961f0d-a17c-4c11-bcdd-8b624d237f47",
   "metadata": {},
   "source": [
    "Import the dataset"
   ]
  },
  {
   "cell_type": "code",
   "execution_count": 3,
   "id": "a8934bb1-3c41-40dd-ac58-95688ddf3163",
   "metadata": {},
   "outputs": [
    {
     "name": "stdout",
     "output_type": "stream",
     "text": [
      "            Position  Level   Salary\n",
      "0   Business Analyst      1    45000\n",
      "1  Junior Consultant      2    50000\n",
      "2  Senior Consultant      3    60000\n",
      "3            Manager      4    80000\n",
      "4    Country Manager      5   110000\n",
      "5     Region Manager      6   150000\n",
      "6            Partner      7   200000\n",
      "7     Senior Partner      8   300000\n",
      "8            C-level      9   500000\n",
      "9                CEO     10  1000000\n"
     ]
    }
   ],
   "source": [
    "data = pd.read_csv('Position_Salaries.csv')\n",
    "print(data)"
   ]
  },
  {
   "cell_type": "code",
   "execution_count": 5,
   "id": "4d3019dc-c6b7-4675-8a9c-9fa51d2f6e25",
   "metadata": {},
   "outputs": [
    {
     "name": "stdout",
     "output_type": "stream",
     "text": [
      "[[ 1]\n",
      " [ 2]\n",
      " [ 3]\n",
      " [ 4]\n",
      " [ 5]\n",
      " [ 6]\n",
      " [ 7]\n",
      " [ 8]\n",
      " [ 9]\n",
      " [10]]\n"
     ]
    }
   ],
   "source": [
    "x = data.iloc[:, 1:-1].values\n",
    "print(x)"
   ]
  },
  {
   "cell_type": "code",
   "execution_count": 6,
   "id": "700f1108-f793-4fb7-8631-07fc3e6b6348",
   "metadata": {},
   "outputs": [
    {
     "name": "stdout",
     "output_type": "stream",
     "text": [
      "[  45000   50000   60000   80000  110000  150000  200000  300000  500000\n",
      " 1000000]\n"
     ]
    }
   ],
   "source": [
    "y = data.iloc[:, -1].values\n",
    "print(y)"
   ]
  },
  {
   "cell_type": "markdown",
   "id": "d55f579d-9544-43e5-8765-33566f11144a",
   "metadata": {},
   "source": [
    "Feature Scaling"
   ]
  },
  {
   "cell_type": "markdown",
   "id": "0c420597-7588-4b96-b689-e48d80fa4f04",
   "metadata": {},
   "source": [
    "Training the SVR model on the whole dataset"
   ]
  },
  {
   "cell_type": "markdown",
   "id": "509f916f-023e-49be-9229-e0f6d4dcd6df",
   "metadata": {},
   "source": [
    "Prediciting a new result"
   ]
  },
  {
   "cell_type": "markdown",
   "id": "3590a9e3-e6fa-4d5b-99d7-61dd05f91e59",
   "metadata": {},
   "source": [
    "Visualisinf the SVR results"
   ]
  },
  {
   "cell_type": "code",
   "execution_count": null,
   "id": "880af1ab-09ee-46b1-961e-b12f1fc1c4e5",
   "metadata": {},
   "outputs": [],
   "source": []
  }
 ],
 "metadata": {
  "kernelspec": {
   "display_name": "Python 3 (ipykernel)",
   "language": "python",
   "name": "python3"
  },
  "language_info": {
   "codemirror_mode": {
    "name": "ipython",
    "version": 3
   },
   "file_extension": ".py",
   "mimetype": "text/x-python",
   "name": "python",
   "nbconvert_exporter": "python",
   "pygments_lexer": "ipython3",
   "version": "3.12.3"
  }
 },
 "nbformat": 4,
 "nbformat_minor": 5
}
