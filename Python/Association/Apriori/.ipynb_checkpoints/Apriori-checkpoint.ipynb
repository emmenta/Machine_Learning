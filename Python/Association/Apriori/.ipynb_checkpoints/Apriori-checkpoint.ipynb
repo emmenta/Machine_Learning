{
 "cells": [
  {
   "cell_type": "markdown",
   "id": "04e83582-7c74-4bfc-b81f-ccd974b0d020",
   "metadata": {},
   "source": [
    "Import Library"
   ]
  },
  {
   "cell_type": "code",
   "execution_count": 1,
   "id": "56265072-2326-4d3f-aef3-ed543827a46b",
   "metadata": {},
   "outputs": [],
   "source": [
    "import numpy as np\n",
    "import matplotlib.pyplot as plt\n",
    "import pandas as pd"
   ]
  },
  {
   "cell_type": "markdown",
   "id": "a4a5188e-9bf9-4f80-a33e-a652e240e2a2",
   "metadata": {},
   "source": [
    "Import Dataset"
   ]
  },
  {
   "cell_type": "code",
   "execution_count": 2,
   "id": "24aed339-c7a2-48f0-94f6-acbdcd38eefe",
   "metadata": {},
   "outputs": [],
   "source": [
    "data = pd.read_csv('Market_Basket_Optimisation.csv', header = None)\n",
    "\n",
    "transaction = []\n",
    "\n",
    "for i in range(0, 7501):\n",
    "    transaction.append([\n",
    "        str(data.values[i, j]) for j in range(0, 20)\n",
    "    ])"
   ]
  },
  {
   "cell_type": "markdown",
   "id": "514fd18f-74f8-4a2e-a069-c02e8bcc941b",
   "metadata": {},
   "source": [
    "Train the Apriori Model on the dataset"
   ]
  },
  {
   "cell_type": "code",
   "execution_count": 3,
   "id": "03362953-30db-425c-a117-9877a7fe1524",
   "metadata": {},
   "outputs": [],
   "source": [
    "from apyori import apriori\n",
    "rules = apriori(transactions = transaction, min_support = 0.003, min_confidence = 0.2, min_lift = 3, min_length = 2, max_length = 2) \n",
    "# Minimum support is looking for the minimum number of occurance within a week. Therefore, the value 0.003 is 3 items multiplied by 7 days divided by the total transactions 7501 ((3*7)/7501)\n"
   ]
  },
  {
   "cell_type": "markdown",
   "id": "cb325a2b-8355-42b3-9105-31141e5e6607",
   "metadata": {},
   "source": [
    "Visualising the result"
   ]
  },
  {
   "cell_type": "markdown",
   "id": "9c5bdd42-0cf2-484b-ba92-37e549d0ea72",
   "metadata": {},
   "source": [
    "Display the first result coming directly from the output of the priori function"
   ]
  },
  {
   "cell_type": "code",
   "execution_count": 4,
   "id": "f6d6d690-677d-40d1-9b09-55bc49f3422f",
   "metadata": {
    "scrolled": true
   },
   "outputs": [
    {
     "data": {
      "text/plain": [
       "[RelationRecord(items=frozenset({'light cream', 'chicken'}), support=0.004532728969470737, ordered_statistics=[OrderedStatistic(items_base=frozenset({'light cream'}), items_add=frozenset({'chicken'}), confidence=0.29059829059829057, lift=4.84395061728395)]),\n",
       " RelationRecord(items=frozenset({'escalope', 'mushroom cream sauce'}), support=0.005732568990801226, ordered_statistics=[OrderedStatistic(items_base=frozenset({'mushroom cream sauce'}), items_add=frozenset({'escalope'}), confidence=0.3006993006993007, lift=3.790832696715049)]),\n",
       " RelationRecord(items=frozenset({'escalope', 'pasta'}), support=0.005865884548726837, ordered_statistics=[OrderedStatistic(items_base=frozenset({'pasta'}), items_add=frozenset({'escalope'}), confidence=0.3728813559322034, lift=4.700811850163794)]),\n",
       " RelationRecord(items=frozenset({'fromage blanc', 'honey'}), support=0.003332888948140248, ordered_statistics=[OrderedStatistic(items_base=frozenset({'fromage blanc'}), items_add=frozenset({'honey'}), confidence=0.2450980392156863, lift=5.164270764485569)]),\n",
       " RelationRecord(items=frozenset({'herb & pepper', 'ground beef'}), support=0.015997866951073192, ordered_statistics=[OrderedStatistic(items_base=frozenset({'herb & pepper'}), items_add=frozenset({'ground beef'}), confidence=0.3234501347708895, lift=3.2919938411349285)]),\n",
       " RelationRecord(items=frozenset({'ground beef', 'tomato sauce'}), support=0.005332622317024397, ordered_statistics=[OrderedStatistic(items_base=frozenset({'tomato sauce'}), items_add=frozenset({'ground beef'}), confidence=0.3773584905660377, lift=3.840659481324083)]),\n",
       " RelationRecord(items=frozenset({'light cream', 'olive oil'}), support=0.003199573390214638, ordered_statistics=[OrderedStatistic(items_base=frozenset({'light cream'}), items_add=frozenset({'olive oil'}), confidence=0.20512820512820515, lift=3.1147098515519573)]),\n",
       " RelationRecord(items=frozenset({'whole wheat pasta', 'olive oil'}), support=0.007998933475536596, ordered_statistics=[OrderedStatistic(items_base=frozenset({'whole wheat pasta'}), items_add=frozenset({'olive oil'}), confidence=0.2714932126696833, lift=4.122410097642296)]),\n",
       " RelationRecord(items=frozenset({'shrimp', 'pasta'}), support=0.005065991201173177, ordered_statistics=[OrderedStatistic(items_base=frozenset({'pasta'}), items_add=frozenset({'shrimp'}), confidence=0.3220338983050847, lift=4.506672147735896)])]"
      ]
     },
     "execution_count": 4,
     "metadata": {},
     "output_type": "execute_result"
    }
   ],
   "source": [
    "results = list(rules)\n",
    "results"
   ]
  },
  {
   "cell_type": "markdown",
   "id": "ddbc6c7b-ee6b-4016-aeb7-07263182a6b2",
   "metadata": {},
   "source": [
    "Putting the result well organised into a pandas Dataframe"
   ]
  },
  {
   "cell_type": "code",
   "execution_count": 5,
   "id": "6ace87ca-70cd-40ee-8ce3-23c1ec319adf",
   "metadata": {},
   "outputs": [],
   "source": [
    "def inspect(results):\n",
    "    lhs = []\n",
    "    rhs = []\n",
    "    supports = []\n",
    "    confidences = []\n",
    "    lifts = []\n",
    "\n",
    "    for result in results:\n",
    "        lhs.append(tuple(result[2][0][0])[0]) if result[2][0][0] else None\n",
    "        rhs.append(tuple(result[2][0][1])[0]) if result[2][0][1] else None\n",
    "        supports.append(result[1])\n",
    "        confidences.append(result[2][0][2])\n",
    "        lifts.append(result[2][0][3])\n",
    "    return list(zip(lhs, rhs, supports, confidences, lifts))\n",
    "resultsinDataFrame = pd.DataFrame(inspect(results), columns = ['Left Hand Side', 'Right Hand Side', 'Supports', 'Confidences', 'Lifts'])"
   ]
  },
  {
   "cell_type": "markdown",
   "id": "146df34a-9d64-45f6-9df3-dd40792c6b12",
   "metadata": {},
   "source": [
    "Displayig the results non sorted"
   ]
  },
  {
   "cell_type": "code",
   "execution_count": 6,
   "id": "5b43210c-c3e1-440e-b20e-0e13f37a547e",
   "metadata": {},
   "outputs": [
    {
     "data": {
      "text/html": [
       "<div>\n",
       "<style scoped>\n",
       "    .dataframe tbody tr th:only-of-type {\n",
       "        vertical-align: middle;\n",
       "    }\n",
       "\n",
       "    .dataframe tbody tr th {\n",
       "        vertical-align: top;\n",
       "    }\n",
       "\n",
       "    .dataframe thead th {\n",
       "        text-align: right;\n",
       "    }\n",
       "</style>\n",
       "<table border=\"1\" class=\"dataframe\">\n",
       "  <thead>\n",
       "    <tr style=\"text-align: right;\">\n",
       "      <th></th>\n",
       "      <th>Left Hand Side</th>\n",
       "      <th>Right Hand Side</th>\n",
       "      <th>Supports</th>\n",
       "      <th>Confidences</th>\n",
       "      <th>Lifts</th>\n",
       "    </tr>\n",
       "  </thead>\n",
       "  <tbody>\n",
       "    <tr>\n",
       "      <th>0</th>\n",
       "      <td>light cream</td>\n",
       "      <td>chicken</td>\n",
       "      <td>0.004533</td>\n",
       "      <td>0.290598</td>\n",
       "      <td>4.843951</td>\n",
       "    </tr>\n",
       "    <tr>\n",
       "      <th>1</th>\n",
       "      <td>mushroom cream sauce</td>\n",
       "      <td>escalope</td>\n",
       "      <td>0.005733</td>\n",
       "      <td>0.300699</td>\n",
       "      <td>3.790833</td>\n",
       "    </tr>\n",
       "    <tr>\n",
       "      <th>2</th>\n",
       "      <td>pasta</td>\n",
       "      <td>escalope</td>\n",
       "      <td>0.005866</td>\n",
       "      <td>0.372881</td>\n",
       "      <td>4.700812</td>\n",
       "    </tr>\n",
       "    <tr>\n",
       "      <th>3</th>\n",
       "      <td>fromage blanc</td>\n",
       "      <td>honey</td>\n",
       "      <td>0.003333</td>\n",
       "      <td>0.245098</td>\n",
       "      <td>5.164271</td>\n",
       "    </tr>\n",
       "    <tr>\n",
       "      <th>4</th>\n",
       "      <td>herb &amp; pepper</td>\n",
       "      <td>ground beef</td>\n",
       "      <td>0.015998</td>\n",
       "      <td>0.323450</td>\n",
       "      <td>3.291994</td>\n",
       "    </tr>\n",
       "    <tr>\n",
       "      <th>5</th>\n",
       "      <td>tomato sauce</td>\n",
       "      <td>ground beef</td>\n",
       "      <td>0.005333</td>\n",
       "      <td>0.377358</td>\n",
       "      <td>3.840659</td>\n",
       "    </tr>\n",
       "    <tr>\n",
       "      <th>6</th>\n",
       "      <td>light cream</td>\n",
       "      <td>olive oil</td>\n",
       "      <td>0.003200</td>\n",
       "      <td>0.205128</td>\n",
       "      <td>3.114710</td>\n",
       "    </tr>\n",
       "    <tr>\n",
       "      <th>7</th>\n",
       "      <td>whole wheat pasta</td>\n",
       "      <td>olive oil</td>\n",
       "      <td>0.007999</td>\n",
       "      <td>0.271493</td>\n",
       "      <td>4.122410</td>\n",
       "    </tr>\n",
       "    <tr>\n",
       "      <th>8</th>\n",
       "      <td>pasta</td>\n",
       "      <td>shrimp</td>\n",
       "      <td>0.005066</td>\n",
       "      <td>0.322034</td>\n",
       "      <td>4.506672</td>\n",
       "    </tr>\n",
       "  </tbody>\n",
       "</table>\n",
       "</div>"
      ],
      "text/plain": [
       "         Left Hand Side Right Hand Side  Supports  Confidences     Lifts\n",
       "0           light cream         chicken  0.004533     0.290598  4.843951\n",
       "1  mushroom cream sauce        escalope  0.005733     0.300699  3.790833\n",
       "2                 pasta        escalope  0.005866     0.372881  4.700812\n",
       "3         fromage blanc           honey  0.003333     0.245098  5.164271\n",
       "4         herb & pepper     ground beef  0.015998     0.323450  3.291994\n",
       "5          tomato sauce     ground beef  0.005333     0.377358  3.840659\n",
       "6           light cream       olive oil  0.003200     0.205128  3.114710\n",
       "7     whole wheat pasta       olive oil  0.007999     0.271493  4.122410\n",
       "8                 pasta          shrimp  0.005066     0.322034  4.506672"
      ]
     },
     "execution_count": 6,
     "metadata": {},
     "output_type": "execute_result"
    }
   ],
   "source": [
    "resultsinDataFrame"
   ]
  },
  {
   "cell_type": "markdown",
   "id": "4a2b2a75-c123-4e9b-aba1-fada06a7e278",
   "metadata": {},
   "source": [
    "Displaying the results sorted by descrnding lifts"
   ]
  },
  {
   "cell_type": "code",
   "execution_count": 7,
   "id": "6223d8a6-f8f2-4b67-bb30-86a88aa211c7",
   "metadata": {},
   "outputs": [
    {
     "data": {
      "text/html": [
       "<div>\n",
       "<style scoped>\n",
       "    .dataframe tbody tr th:only-of-type {\n",
       "        vertical-align: middle;\n",
       "    }\n",
       "\n",
       "    .dataframe tbody tr th {\n",
       "        vertical-align: top;\n",
       "    }\n",
       "\n",
       "    .dataframe thead th {\n",
       "        text-align: right;\n",
       "    }\n",
       "</style>\n",
       "<table border=\"1\" class=\"dataframe\">\n",
       "  <thead>\n",
       "    <tr style=\"text-align: right;\">\n",
       "      <th></th>\n",
       "      <th>Left Hand Side</th>\n",
       "      <th>Right Hand Side</th>\n",
       "      <th>Supports</th>\n",
       "      <th>Confidences</th>\n",
       "      <th>Lifts</th>\n",
       "    </tr>\n",
       "  </thead>\n",
       "  <tbody>\n",
       "    <tr>\n",
       "      <th>3</th>\n",
       "      <td>fromage blanc</td>\n",
       "      <td>honey</td>\n",
       "      <td>0.003333</td>\n",
       "      <td>0.245098</td>\n",
       "      <td>5.164271</td>\n",
       "    </tr>\n",
       "    <tr>\n",
       "      <th>0</th>\n",
       "      <td>light cream</td>\n",
       "      <td>chicken</td>\n",
       "      <td>0.004533</td>\n",
       "      <td>0.290598</td>\n",
       "      <td>4.843951</td>\n",
       "    </tr>\n",
       "    <tr>\n",
       "      <th>2</th>\n",
       "      <td>pasta</td>\n",
       "      <td>escalope</td>\n",
       "      <td>0.005866</td>\n",
       "      <td>0.372881</td>\n",
       "      <td>4.700812</td>\n",
       "    </tr>\n",
       "    <tr>\n",
       "      <th>8</th>\n",
       "      <td>pasta</td>\n",
       "      <td>shrimp</td>\n",
       "      <td>0.005066</td>\n",
       "      <td>0.322034</td>\n",
       "      <td>4.506672</td>\n",
       "    </tr>\n",
       "    <tr>\n",
       "      <th>7</th>\n",
       "      <td>whole wheat pasta</td>\n",
       "      <td>olive oil</td>\n",
       "      <td>0.007999</td>\n",
       "      <td>0.271493</td>\n",
       "      <td>4.122410</td>\n",
       "    </tr>\n",
       "    <tr>\n",
       "      <th>5</th>\n",
       "      <td>tomato sauce</td>\n",
       "      <td>ground beef</td>\n",
       "      <td>0.005333</td>\n",
       "      <td>0.377358</td>\n",
       "      <td>3.840659</td>\n",
       "    </tr>\n",
       "    <tr>\n",
       "      <th>1</th>\n",
       "      <td>mushroom cream sauce</td>\n",
       "      <td>escalope</td>\n",
       "      <td>0.005733</td>\n",
       "      <td>0.300699</td>\n",
       "      <td>3.790833</td>\n",
       "    </tr>\n",
       "    <tr>\n",
       "      <th>4</th>\n",
       "      <td>herb &amp; pepper</td>\n",
       "      <td>ground beef</td>\n",
       "      <td>0.015998</td>\n",
       "      <td>0.323450</td>\n",
       "      <td>3.291994</td>\n",
       "    </tr>\n",
       "    <tr>\n",
       "      <th>6</th>\n",
       "      <td>light cream</td>\n",
       "      <td>olive oil</td>\n",
       "      <td>0.003200</td>\n",
       "      <td>0.205128</td>\n",
       "      <td>3.114710</td>\n",
       "    </tr>\n",
       "  </tbody>\n",
       "</table>\n",
       "</div>"
      ],
      "text/plain": [
       "         Left Hand Side Right Hand Side  Supports  Confidences     Lifts\n",
       "3         fromage blanc           honey  0.003333     0.245098  5.164271\n",
       "0           light cream         chicken  0.004533     0.290598  4.843951\n",
       "2                 pasta        escalope  0.005866     0.372881  4.700812\n",
       "8                 pasta          shrimp  0.005066     0.322034  4.506672\n",
       "7     whole wheat pasta       olive oil  0.007999     0.271493  4.122410\n",
       "5          tomato sauce     ground beef  0.005333     0.377358  3.840659\n",
       "1  mushroom cream sauce        escalope  0.005733     0.300699  3.790833\n",
       "4         herb & pepper     ground beef  0.015998     0.323450  3.291994\n",
       "6           light cream       olive oil  0.003200     0.205128  3.114710"
      ]
     },
     "execution_count": 7,
     "metadata": {},
     "output_type": "execute_result"
    }
   ],
   "source": [
    "resultsinDataFrame.nlargest(n = 10, columns = 'Lifts')"
   ]
  }
 ],
 "metadata": {
  "kernelspec": {
   "display_name": "Python 3 (ipykernel)",
   "language": "python",
   "name": "python3"
  },
  "language_info": {
   "codemirror_mode": {
    "name": "ipython",
    "version": 3
   },
   "file_extension": ".py",
   "mimetype": "text/x-python",
   "name": "python",
   "nbconvert_exporter": "python",
   "pygments_lexer": "ipython3",
   "version": "3.12.4"
  }
 },
 "nbformat": 4,
 "nbformat_minor": 5
}
